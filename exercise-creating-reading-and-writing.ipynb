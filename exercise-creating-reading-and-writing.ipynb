{
 "cells": [
  {
   "cell_type": "markdown",
   "id": "7db16b6e",
   "metadata": {
    "_cell_guid": "f041fccc-c9a4-4846-acf6-b1081a15dbd1",
    "_uuid": "b699b40c-45af-4736-9c8f-56100212b484",
    "papermill": {
     "duration": 0.008056,
     "end_time": "2023-11-03T11:32:13.286607",
     "exception": false,
     "start_time": "2023-11-03T11:32:13.278551",
     "status": "completed"
    },
    "tags": []
   },
   "source": [
    "**This notebook is an exercise in the [Pandas](https://www.kaggle.com/learn/pandas) course.  You can reference the tutorial at [this link](https://www.kaggle.com/residentmario/creating-reading-and-writing).**\n",
    "\n",
    "---"
   ]
  },
  {
   "cell_type": "markdown",
   "id": "bf81591f",
   "metadata": {
    "_cell_guid": "0e53112c-959c-4df8-8e5b-9d95884d39fb",
    "_uuid": "2722e60c-d7fa-4e38-9c44-d8a33c46fb39",
    "papermill": {
     "duration": 0.007209,
     "end_time": "2023-11-03T11:32:13.301601",
     "exception": false,
     "start_time": "2023-11-03T11:32:13.294392",
     "status": "completed"
    },
    "tags": []
   },
   "source": [
    "# Introduction\n",
    "\n",
    "The first step in most data analytics projects is reading the data file. In this exercise, you'll create Series and DataFrame objects, both by hand and by reading data files.\n",
    "\n",
    "Run the code cell below to load libraries you will need (including code to check your answers)."
   ]
  },
  {
   "cell_type": "code",
   "execution_count": 1,
   "id": "0ae2836c",
   "metadata": {
    "_cell_guid": "cdbc9f39-7881-49bf-b14c-ef13a7a7dd33",
    "_uuid": "e58653b0-8e79-409d-88d2-e4789321f04f",
    "collapsed": false,
    "execution": {
     "iopub.execute_input": "2023-11-03T11:32:13.319085Z",
     "iopub.status.busy": "2023-11-03T11:32:13.318475Z",
     "iopub.status.idle": "2023-11-03T11:32:15.621993Z",
     "shell.execute_reply": "2023-11-03T11:32:15.620759Z"
    },
    "jupyter": {
     "outputs_hidden": false
    },
    "papermill": {
     "duration": 2.315637,
     "end_time": "2023-11-03T11:32:15.624918",
     "exception": false,
     "start_time": "2023-11-03T11:32:13.309281",
     "status": "completed"
    },
    "tags": []
   },
   "outputs": [
    {
     "name": "stdout",
     "output_type": "stream",
     "text": [
      "Setup complete.\n"
     ]
    }
   ],
   "source": [
    "import pandas as pd\n",
    "pd.set_option('display.max_rows', 5)\n",
    "from learntools.core import binder; binder.bind(globals())\n",
    "from learntools.pandas.creating_reading_and_writing import *\n",
    "print(\"Setup complete.\")"
   ]
  },
  {
   "cell_type": "markdown",
   "id": "a61956cb",
   "metadata": {
    "_cell_guid": "44781866-d26b-4705-ab6f-5bf92f98401d",
    "_uuid": "7a5bccc7-8892-4eb0-a585-6339bacb61c5",
    "papermill": {
     "duration": 0.007374,
     "end_time": "2023-11-03T11:32:15.640162",
     "exception": false,
     "start_time": "2023-11-03T11:32:15.632788",
     "status": "completed"
    },
    "tags": []
   },
   "source": [
    "# Exercises"
   ]
  },
  {
   "cell_type": "markdown",
   "id": "182b1987",
   "metadata": {
    "_cell_guid": "49efbc18-7d38-4b2a-afc8-36e5c0f4f258",
    "_uuid": "2867ad44-42e3-4483-8e63-38e953cab996",
    "papermill": {
     "duration": 0.007875,
     "end_time": "2023-11-03T11:32:15.655666",
     "exception": false,
     "start_time": "2023-11-03T11:32:15.647791",
     "status": "completed"
    },
    "tags": []
   },
   "source": [
    "## 1.\n",
    "\n",
    "In the cell below, create a DataFrame `fruits` that looks like this:\n",
    "\n",
    "![](https://storage.googleapis.com/kaggle-media/learn/images/Ax3pp2A.png)"
   ]
  },
  {
   "cell_type": "code",
   "execution_count": 2,
   "id": "7ee2f04d",
   "metadata": {
    "_cell_guid": "8b418936-ee5e-4ef9-ae1c-f83620ffdb33",
    "_uuid": "ecc57964-354f-4198-b28b-c7aa63bd36a4",
    "collapsed": false,
    "execution": {
     "iopub.execute_input": "2023-11-03T11:32:15.673820Z",
     "iopub.status.busy": "2023-11-03T11:32:15.672562Z",
     "iopub.status.idle": "2023-11-03T11:32:15.685906Z",
     "shell.execute_reply": "2023-11-03T11:32:15.684261Z"
    },
    "jupyter": {
     "outputs_hidden": false
    },
    "papermill": {
     "duration": 0.026164,
     "end_time": "2023-11-03T11:32:15.689560",
     "exception": false,
     "start_time": "2023-11-03T11:32:15.663396",
     "status": "completed"
    },
    "tags": []
   },
   "outputs": [
    {
     "name": "stdout",
     "output_type": "stream",
     "text": [
      "   Apples  Bananas\n",
      "0      30       21\n"
     ]
    }
   ],
   "source": [
    "# Your code goes here. Create a dataframe matching the above diagram and assign it to the variable fruits.\n",
    "import pandas as pd\n",
    "fruits = pd.DataFrame({'Apples': [30], 'Bananas': [21]}, )\n",
    "\n",
    "print(fruits)"
   ]
  },
  {
   "cell_type": "code",
   "execution_count": 3,
   "id": "35951d3c",
   "metadata": {
    "_cell_guid": "c7ce4884-6b14-43a2-a7b8-7533b3c39514",
    "_uuid": "4afb9ae3-5bc3-42b7-9bb6-4b2c1d8e72a7",
    "collapsed": false,
    "execution": {
     "iopub.execute_input": "2023-11-03T11:32:15.707446Z",
     "iopub.status.busy": "2023-11-03T11:32:15.707000Z",
     "iopub.status.idle": "2023-11-03T11:32:15.715487Z",
     "shell.execute_reply": "2023-11-03T11:32:15.714204Z"
    },
    "jupyter": {
     "outputs_hidden": false
    },
    "papermill": {
     "duration": 0.020564,
     "end_time": "2023-11-03T11:32:15.718254",
     "exception": false,
     "start_time": "2023-11-03T11:32:15.697690",
     "status": "completed"
    },
    "tags": []
   },
   "outputs": [
    {
     "name": "stdout",
     "output_type": "stream",
     "text": [
      "   Apples  Bananas\n",
      "0      30       21\n"
     ]
    }
   ],
   "source": [
    "import pandas as pd\n",
    "fruits = pd.DataFrame({'Apples': [30], 'Bananas': [21]})\n",
    "print(fruits)"
   ]
  },
  {
   "cell_type": "code",
   "execution_count": 4,
   "id": "36c08765",
   "metadata": {
    "_cell_guid": "8012474f-ba77-4c46-988e-5690ff893149",
    "_uuid": "8f8cc8f7-35fd-4799-8943-c2e870772ee5",
    "collapsed": false,
    "execution": {
     "iopub.execute_input": "2023-11-03T11:32:15.735831Z",
     "iopub.status.busy": "2023-11-03T11:32:15.735423Z",
     "iopub.status.idle": "2023-11-03T11:32:15.747133Z",
     "shell.execute_reply": "2023-11-03T11:32:15.745803Z"
    },
    "jupyter": {
     "outputs_hidden": false
    },
    "papermill": {
     "duration": 0.023722,
     "end_time": "2023-11-03T11:32:15.749822",
     "exception": false,
     "start_time": "2023-11-03T11:32:15.726100",
     "status": "completed"
    },
    "tags": []
   },
   "outputs": [
    {
     "data": {
      "application/javascript": [
       "parent.postMessage({\"jupyterEvent\": \"custom.exercise_interaction\", \"data\": {\"interactionType\": 3, \"questionType\": 1, \"questionId\": \"1_FruitDfCreation\", \"learnToolsVersion\": \"0.3.4\", \"valueTowardsCompletion\": 0.0, \"failureMessage\": \"\", \"exceptionClass\": \"\", \"trace\": \"\", \"outcomeType\": 4}}, \"*\")"
      ],
      "text/plain": [
       "<IPython.core.display.Javascript object>"
      ]
     },
     "metadata": {},
     "output_type": "display_data"
    },
    {
     "data": {
      "text/markdown": [
       "<span style=\"color:#33cc99\">Solution:</span> \n",
       "```python\n",
       "fruits = pd.DataFrame([[30, 21]], columns=['Apples', 'Bananas'])\n",
       "```"
      ],
      "text/plain": [
       "Solution: \n",
       "```python\n",
       "fruits = pd.DataFrame([[30, 21]], columns=['Apples', 'Bananas'])\n",
       "```"
      ]
     },
     "metadata": {},
     "output_type": "display_data"
    }
   ],
   "source": [
    "q1.solution()"
   ]
  },
  {
   "cell_type": "markdown",
   "id": "5d010e69",
   "metadata": {
    "_cell_guid": "9065f6e8-6754-46f9-94a8-0ee6f2958a60",
    "_uuid": "73fbfe1a-5d2d-4dc1-9bc6-6e6d5d76718c",
    "papermill": {
     "duration": 0.008215,
     "end_time": "2023-11-03T11:32:15.766326",
     "exception": false,
     "start_time": "2023-11-03T11:32:15.758111",
     "status": "completed"
    },
    "tags": []
   },
   "source": [
    "## 2.\n",
    "\n",
    "Create a dataframe `fruit_sales` that matches the diagram below:\n",
    "\n",
    "![](https://storage.googleapis.com/kaggle-media/learn/images/CHPn7ZF.png)"
   ]
  },
  {
   "cell_type": "code",
   "execution_count": 5,
   "id": "471b6a62",
   "metadata": {
    "_cell_guid": "b979e407-6d4d-4ba7-af18-de5146a72b3e",
    "_uuid": "19060e00-2ce5-4cf4-af8f-97a97cf50cb1",
    "collapsed": false,
    "execution": {
     "iopub.execute_input": "2023-11-03T11:32:15.785373Z",
     "iopub.status.busy": "2023-11-03T11:32:15.784930Z",
     "iopub.status.idle": "2023-11-03T11:32:15.794776Z",
     "shell.execute_reply": "2023-11-03T11:32:15.793205Z"
    },
    "jupyter": {
     "outputs_hidden": false
    },
    "papermill": {
     "duration": 0.022764,
     "end_time": "2023-11-03T11:32:15.797368",
     "exception": false,
     "start_time": "2023-11-03T11:32:15.774604",
     "status": "completed"
    },
    "tags": []
   },
   "outputs": [
    {
     "name": "stdout",
     "output_type": "stream",
     "text": [
      "            Apples  Bananas\n",
      "2017 Sales      35       41\n",
      "2018 Sales      21       34\n"
     ]
    }
   ],
   "source": [
    "import pandas as pd\n",
    "fruits = pd.DataFrame({'Apples': [35, 21], 'Bananas': [41, 34]}, index=['2017 Sales', '2018 Sales'])\n",
    "print(fruits)"
   ]
  },
  {
   "cell_type": "markdown",
   "id": "7f4c8dde",
   "metadata": {
    "_cell_guid": "c0c4caf0-904e-457c-80d2-f488646e1aa6",
    "_uuid": "de0ce0a3-76c2-42a2-8470-4810fdab3127",
    "papermill": {
     "duration": 0.008072,
     "end_time": "2023-11-03T11:32:15.813732",
     "exception": false,
     "start_time": "2023-11-03T11:32:15.805660",
     "status": "completed"
    },
    "tags": []
   },
   "source": [
    "## 3.\n",
    "\n",
    "Create a variable `ingredients` with a Series that looks like:\n",
    "\n",
    "```\n",
    "Flour     4 cups\n",
    "Milk       1 cup\n",
    "Eggs     2 large\n",
    "Spam       1 can\n",
    "Name: Dinner, dtype: object\n",
    "```"
   ]
  },
  {
   "cell_type": "code",
   "execution_count": 6,
   "id": "e1c9ddca",
   "metadata": {
    "_cell_guid": "f0a21a42-efff-46fc-b41f-97d0359e20fc",
    "_uuid": "22243113-6775-4196-ab92-d06ec37330b6",
    "collapsed": false,
    "execution": {
     "iopub.execute_input": "2023-11-03T11:32:15.833199Z",
     "iopub.status.busy": "2023-11-03T11:32:15.832778Z",
     "iopub.status.idle": "2023-11-03T11:32:15.840771Z",
     "shell.execute_reply": "2023-11-03T11:32:15.839371Z"
    },
    "jupyter": {
     "outputs_hidden": false
    },
    "papermill": {
     "duration": 0.020848,
     "end_time": "2023-11-03T11:32:15.843456",
     "exception": false,
     "start_time": "2023-11-03T11:32:15.822608",
     "status": "completed"
    },
    "tags": []
   },
   "outputs": [
    {
     "name": "stdout",
     "output_type": "stream",
     "text": [
      "Flour     4 Cups\n",
      "Milk       1 Cup\n",
      "Eggs     2 Large\n",
      "Spam       1 Can\n",
      "Name: Dinner, dtype: object\n"
     ]
    }
   ],
   "source": [
    "import pandas as pd\n",
    "ingredients = pd.Series(['4 Cups', '1 Cup', '2 Large', '1 Can'], index = ['Flour', 'Milk', 'Eggs', 'Spam'], name='Dinner')\n",
    "\n",
    "print(ingredients)"
   ]
  },
  {
   "cell_type": "code",
   "execution_count": 7,
   "id": "7b09637b",
   "metadata": {
    "_cell_guid": "2824c0da-fb22-41ac-81de-73bcca224b65",
    "_uuid": "2cb653f1-b16b-4c71-9ec6-cb95559045fa",
    "collapsed": false,
    "execution": {
     "iopub.execute_input": "2023-11-03T11:32:15.862249Z",
     "iopub.status.busy": "2023-11-03T11:32:15.861802Z",
     "iopub.status.idle": "2023-11-03T11:32:15.866383Z",
     "shell.execute_reply": "2023-11-03T11:32:15.865139Z"
    },
    "jupyter": {
     "outputs_hidden": false
    },
    "papermill": {
     "duration": 0.01723,
     "end_time": "2023-11-03T11:32:15.869105",
     "exception": false,
     "start_time": "2023-11-03T11:32:15.851875",
     "status": "completed"
    },
    "tags": []
   },
   "outputs": [],
   "source": [
    "#q3.hint()\n",
    "#q3.solution()"
   ]
  },
  {
   "cell_type": "markdown",
   "id": "2b6facf8",
   "metadata": {
    "_cell_guid": "e5971b52-c939-48b7-a495-f5413dad9cc4",
    "_uuid": "39832357-bfb9-4044-ac19-9b4e977543e3",
    "papermill": {
     "duration": 0.008144,
     "end_time": "2023-11-03T11:32:15.886218",
     "exception": false,
     "start_time": "2023-11-03T11:32:15.878074",
     "status": "completed"
    },
    "tags": []
   },
   "source": [
    "## 4.\n",
    "\n",
    "Read the following csv dataset of wine reviews into a DataFrame called `reviews`:\n",
    "\n",
    "![](https://storage.googleapis.com/kaggle-media/learn/images/74RCZtU.png)\n",
    "\n",
    "The filepath to the csv file is `../input/wine-reviews/winemag-data_first150k.csv`. The first few lines look like:\n",
    "\n",
    "```\n",
    ",country,description,designation,points,price,province,region_1,region_2,variety,winery\n",
    "0,US,\"This tremendous 100% varietal wine[...]\",Martha's Vineyard,96,235.0,California,Napa Valley,Napa,Cabernet Sauvignon,Heitz\n",
    "1,Spain,\"Ripe aromas of fig, blackberry and[...]\",Carodorum Selección Especial Reserva,96,110.0,Northern Spain,Toro,,Tinta de Toro,Bodega Carmen Rodríguez\n",
    "```"
   ]
  },
  {
   "cell_type": "code",
   "execution_count": 8,
   "id": "a02e2abf",
   "metadata": {
    "_cell_guid": "9ee2d3f2-8207-45e4-bde3-af9622fc7d26",
    "_uuid": "0f4dd4e9-89e3-4c00-bdaf-43fda1bb342c",
    "collapsed": false,
    "execution": {
     "iopub.execute_input": "2023-11-03T11:32:15.905149Z",
     "iopub.status.busy": "2023-11-03T11:32:15.904645Z",
     "iopub.status.idle": "2023-11-03T11:32:15.915393Z",
     "shell.execute_reply": "2023-11-03T11:32:15.914400Z"
    },
    "jupyter": {
     "outputs_hidden": false
    },
    "papermill": {
     "duration": 0.02292,
     "end_time": "2023-11-03T11:32:15.917700",
     "exception": false,
     "start_time": "2023-11-03T11:32:15.894780",
     "status": "completed"
    },
    "tags": []
   },
   "outputs": [
    {
     "data": {
      "application/javascript": [
       "parent.postMessage({\"jupyterEvent\": \"custom.exercise_interaction\", \"data\": {\"outcomeType\": 4, \"interactionType\": 1, \"questionType\": 1, \"questionId\": \"4_ReadWineCsv\", \"learnToolsVersion\": \"0.3.4\", \"valueTowardsCompletion\": 0.0, \"failureMessage\": \"\", \"exceptionClass\": \"\", \"trace\": \"\"}}, \"*\")"
      ],
      "text/plain": [
       "<IPython.core.display.Javascript object>"
      ]
     },
     "metadata": {},
     "output_type": "display_data"
    },
    {
     "data": {
      "text/markdown": [
       "<span style=\"color:#ccaa33\">Check:</span> When you've updated the starter code, `check()` will tell you whether your code is correct. You need to update the code that creates variable `reviews`"
      ],
      "text/plain": [
       "Check: When you've updated the starter code, `check()` will tell you whether your code is correct. You need to update the code that creates variable `reviews`"
      ]
     },
     "metadata": {},
     "output_type": "display_data"
    },
    {
     "data": {
      "text/markdown": [],
      "text/plain": [
       "<learntools.core.constants.PlaceholderValue at 0x79738302bee0>"
      ]
     },
     "execution_count": 8,
     "metadata": {},
     "output_type": "execute_result"
    }
   ],
   "source": [
    "reviews = ____\n",
    "\n",
    "# Check your answer\n",
    "q4.check()\n",
    "reviews"
   ]
  },
  {
   "cell_type": "code",
   "execution_count": 9,
   "id": "bb2b96f5",
   "metadata": {
    "_cell_guid": "77afa46a-54a4-4ece-aec4-fad7984d6824",
    "_uuid": "7e6cb1bd-3a5e-4366-88de-e9672508b11e",
    "collapsed": false,
    "execution": {
     "iopub.execute_input": "2023-11-03T11:32:15.937653Z",
     "iopub.status.busy": "2023-11-03T11:32:15.937186Z",
     "iopub.status.idle": "2023-11-03T11:32:15.942533Z",
     "shell.execute_reply": "2023-11-03T11:32:15.941251Z"
    },
    "jupyter": {
     "outputs_hidden": false
    },
    "papermill": {
     "duration": 0.018626,
     "end_time": "2023-11-03T11:32:15.945414",
     "exception": false,
     "start_time": "2023-11-03T11:32:15.926788",
     "status": "completed"
    },
    "tags": []
   },
   "outputs": [],
   "source": [
    "#q4.hint()\n",
    "#q4.solution()"
   ]
  },
  {
   "cell_type": "markdown",
   "id": "b0b5dcb5",
   "metadata": {
    "_cell_guid": "b27ff440-5337-4ee2-bc9e-756fc7a4d7f6",
    "_uuid": "e8999e97-49e9-425e-9de0-ca2368be4075",
    "papermill": {
     "duration": 0.008784,
     "end_time": "2023-11-03T11:32:15.963368",
     "exception": false,
     "start_time": "2023-11-03T11:32:15.954584",
     "status": "completed"
    },
    "tags": []
   },
   "source": [
    "## 5.\n",
    "\n",
    "Run the cell below to create and display a DataFrame called `animals`:"
   ]
  },
  {
   "cell_type": "code",
   "execution_count": 10,
   "id": "34972848",
   "metadata": {
    "_cell_guid": "c8e2a267-8c99-432a-8c48-afc6c156ed28",
    "_uuid": "182a3f53-2521-4220-96dd-fd6bd6a2b99e",
    "collapsed": false,
    "execution": {
     "iopub.execute_input": "2023-11-03T11:32:15.983963Z",
     "iopub.status.busy": "2023-11-03T11:32:15.983486Z",
     "iopub.status.idle": "2023-11-03T11:32:15.997420Z",
     "shell.execute_reply": "2023-11-03T11:32:15.996289Z"
    },
    "jupyter": {
     "outputs_hidden": false
    },
    "papermill": {
     "duration": 0.027265,
     "end_time": "2023-11-03T11:32:15.999973",
     "exception": false,
     "start_time": "2023-11-03T11:32:15.972708",
     "status": "completed"
    },
    "tags": []
   },
   "outputs": [
    {
     "data": {
      "text/html": [
       "<div>\n",
       "<style scoped>\n",
       "    .dataframe tbody tr th:only-of-type {\n",
       "        vertical-align: middle;\n",
       "    }\n",
       "\n",
       "    .dataframe tbody tr th {\n",
       "        vertical-align: top;\n",
       "    }\n",
       "\n",
       "    .dataframe thead th {\n",
       "        text-align: right;\n",
       "    }\n",
       "</style>\n",
       "<table border=\"1\" class=\"dataframe\">\n",
       "  <thead>\n",
       "    <tr style=\"text-align: right;\">\n",
       "      <th></th>\n",
       "      <th>Cows</th>\n",
       "      <th>Goats</th>\n",
       "    </tr>\n",
       "  </thead>\n",
       "  <tbody>\n",
       "    <tr>\n",
       "      <th>Year 1</th>\n",
       "      <td>12</td>\n",
       "      <td>22</td>\n",
       "    </tr>\n",
       "    <tr>\n",
       "      <th>Year 2</th>\n",
       "      <td>20</td>\n",
       "      <td>19</td>\n",
       "    </tr>\n",
       "  </tbody>\n",
       "</table>\n",
       "</div>"
      ],
      "text/plain": [
       "        Cows  Goats\n",
       "Year 1    12     22\n",
       "Year 2    20     19"
      ]
     },
     "execution_count": 10,
     "metadata": {},
     "output_type": "execute_result"
    }
   ],
   "source": [
    "animals = pd.DataFrame({'Cows': [12, 20], 'Goats': [22, 19]}, index=['Year 1', 'Year 2'])\n",
    "animals"
   ]
  },
  {
   "cell_type": "markdown",
   "id": "6c00c7fa",
   "metadata": {
    "_cell_guid": "1141c36e-3737-4043-b52f-f9d156dd8e60",
    "_uuid": "043176eb-02d2-45ae-a610-d7745faefdf7",
    "papermill": {
     "duration": 0.008989,
     "end_time": "2023-11-03T11:32:16.018339",
     "exception": false,
     "start_time": "2023-11-03T11:32:16.009350",
     "status": "completed"
    },
    "tags": []
   },
   "source": [
    "In the cell below, write code to save this DataFrame to disk as a csv file with the name `cows_and_goats.csv`."
   ]
  },
  {
   "cell_type": "code",
   "execution_count": 11,
   "id": "e43cb8bf",
   "metadata": {
    "_cell_guid": "aa2c34ed-60d7-4fc3-b60f-83b328d959d2",
    "_uuid": "3ddc7de7-621f-4268-9b25-910167c0240e",
    "collapsed": false,
    "execution": {
     "iopub.execute_input": "2023-11-03T11:32:16.039520Z",
     "iopub.status.busy": "2023-11-03T11:32:16.039114Z",
     "iopub.status.idle": "2023-11-03T11:32:16.049653Z",
     "shell.execute_reply": "2023-11-03T11:32:16.048362Z"
    },
    "jupyter": {
     "outputs_hidden": false
    },
    "papermill": {
     "duration": 0.024376,
     "end_time": "2023-11-03T11:32:16.052429",
     "exception": false,
     "start_time": "2023-11-03T11:32:16.028053",
     "status": "completed"
    },
    "tags": []
   },
   "outputs": [
    {
     "data": {
      "application/javascript": [
       "parent.postMessage({\"jupyterEvent\": \"custom.exercise_interaction\", \"data\": {\"outcomeType\": 2, \"failureMessage\": \"Expected file to exist with name `cows_and_goats.csv`\", \"interactionType\": 1, \"questionType\": 2, \"questionId\": \"5_SaveAnimalsCsv\", \"learnToolsVersion\": \"0.3.4\", \"valueTowardsCompletion\": 0.0, \"exceptionClass\": \"\", \"trace\": \"\"}}, \"*\")"
      ],
      "text/plain": [
       "<IPython.core.display.Javascript object>"
      ]
     },
     "metadata": {},
     "output_type": "display_data"
    },
    {
     "data": {
      "text/markdown": [
       "<span style=\"color:#cc3333\">Incorrect:</span> Expected file to exist with name `cows_and_goats.csv`"
      ],
      "text/plain": [
       "Incorrect: Expected file to exist with name `cows_and_goats.csv`"
      ]
     },
     "metadata": {},
     "output_type": "display_data"
    }
   ],
   "source": [
    "# Your code goes here\n",
    "\n",
    "# Check your answer\n",
    "q5.check()"
   ]
  },
  {
   "cell_type": "code",
   "execution_count": 12,
   "id": "0b686c31",
   "metadata": {
    "_cell_guid": "541f9377-7a52-4b33-9980-71a6e1045bee",
    "_uuid": "1fea001d-661e-41d6-850a-11657a9d3619",
    "collapsed": false,
    "execution": {
     "iopub.execute_input": "2023-11-03T11:32:16.074197Z",
     "iopub.status.busy": "2023-11-03T11:32:16.073748Z",
     "iopub.status.idle": "2023-11-03T11:32:16.078833Z",
     "shell.execute_reply": "2023-11-03T11:32:16.077531Z"
    },
    "jupyter": {
     "outputs_hidden": false
    },
    "papermill": {
     "duration": 0.019101,
     "end_time": "2023-11-03T11:32:16.081594",
     "exception": false,
     "start_time": "2023-11-03T11:32:16.062493",
     "status": "completed"
    },
    "tags": []
   },
   "outputs": [],
   "source": [
    "#q5.hint()\n",
    "#q5.solution()"
   ]
  },
  {
   "cell_type": "markdown",
   "id": "7d736911",
   "metadata": {
    "_cell_guid": "a689c025-62e6-47a5-a4cc-7c71fd4c597f",
    "_uuid": "2b021908-e9f7-4bc9-925b-c1b764ff6dbf",
    "papermill": {
     "duration": 0.009804,
     "end_time": "2023-11-03T11:32:16.101270",
     "exception": false,
     "start_time": "2023-11-03T11:32:16.091466",
     "status": "completed"
    },
    "tags": []
   },
   "source": [
    "# Keep going\n",
    "\n",
    "Move on to learn about **[indexing, selecting and assigning](https://www.kaggle.com/residentmario/indexing-selecting-assigning)**."
   ]
  },
  {
   "cell_type": "markdown",
   "id": "a4857e5a",
   "metadata": {
    "_cell_guid": "0a38126f-2642-4251-8bc6-fcdbe3251f0a",
    "_uuid": "9cf9a2c0-371c-41c5-a2b4-d8e0fae85594",
    "papermill": {
     "duration": 0.009593,
     "end_time": "2023-11-03T11:32:16.120814",
     "exception": false,
     "start_time": "2023-11-03T11:32:16.111221",
     "status": "completed"
    },
    "tags": []
   },
   "source": [
    "---\n",
    "\n",
    "\n",
    "\n",
    "\n",
    "*Have questions or comments? Visit the [course discussion forum](https://www.kaggle.com/learn/pandas/discussion) to chat with other learners.*"
   ]
  }
 ],
 "metadata": {
  "kernelspec": {
   "display_name": "Python 3",
   "language": "python",
   "name": "python3"
  },
  "language_info": {
   "codemirror_mode": {
    "name": "ipython",
    "version": 3
   },
   "file_extension": ".py",
   "mimetype": "text/x-python",
   "name": "python",
   "nbconvert_exporter": "python",
   "pygments_lexer": "ipython3",
   "version": "3.10.12"
  },
  "papermill": {
   "default_parameters": {},
   "duration": 7.125316,
   "end_time": "2023-11-03T11:32:16.651512",
   "environment_variables": {},
   "exception": null,
   "input_path": "__notebook__.ipynb",
   "output_path": "__notebook__.ipynb",
   "parameters": {},
   "start_time": "2023-11-03T11:32:09.526196",
   "version": "2.4.0"
  }
 },
 "nbformat": 4,
 "nbformat_minor": 5
}
